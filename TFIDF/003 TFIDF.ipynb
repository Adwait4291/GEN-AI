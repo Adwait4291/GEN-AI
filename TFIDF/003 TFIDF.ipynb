{
 "cells": [
  {
   "cell_type": "code",
   "execution_count": 1,
   "id": "4b0e0262",
   "metadata": {},
   "outputs": [],
   "source": [
    "# Import necessary libraries\n",
    "import pandas as pd\n",
    "from sklearn.feature_extraction.text import TfidfVectorizer\n",
    "\n",
    "# Define a corpus (collection of documents)\n",
    "corpus = [\n",
    "    \"The research in Physics is interesting and difficult.\",\n",
    "    \"The research in Math is interesting and not difficult.\",\n",
    "    \"The Research in AI needs a deep understanding of Math\",\n",
    "    \"is the research really difficult?\",\n",
    "]\n",
    "\n"
   ]
  },
  {
   "cell_type": "code",
   "execution_count": 2,
   "id": "8b5bed1d",
   "metadata": {},
   "outputs": [
    {
     "data": {
      "text/plain": [
       "['The research in Physics is interesting and difficult.',\n",
       " 'The research in Math is interesting and not difficult.',\n",
       " 'The Research in AI needs a deep understanding of Math',\n",
       " 'is the research really difficult?']"
      ]
     },
     "execution_count": 2,
     "metadata": {},
     "output_type": "execute_result"
    }
   ],
   "source": [
    "corpus"
   ]
  },
  {
   "cell_type": "code",
   "execution_count": 3,
   "id": "0032a21e",
   "metadata": {},
   "outputs": [],
   "source": [
    "# Create a TF-IDF vectorizer\n",
    "tfidf_vectorizer = TfidfVectorizer()\n",
    "\n"
   ]
  },
  {
   "cell_type": "code",
   "execution_count": 4,
   "id": "795833db",
   "metadata": {},
   "outputs": [],
   "source": [
    "# Fit and transform the corpus to obtain TF-IDF vectors\n",
    "tfidf_matrix = tfidf_vectorizer.fit_transform(corpus)\n",
    "\n"
   ]
  },
  {
   "cell_type": "code",
   "execution_count": 5,
   "id": "f7ba409a",
   "metadata": {},
   "outputs": [
    {
     "data": {
      "text/plain": [
       "<4x16 sparse matrix of type '<class 'numpy.float64'>'\n",
       "\twith 31 stored elements in Compressed Sparse Row format>"
      ]
     },
     "execution_count": 5,
     "metadata": {},
     "output_type": "execute_result"
    }
   ],
   "source": [
    "tfidf_matrix"
   ]
  },
  {
   "cell_type": "code",
   "execution_count": 6,
   "id": "a47b90b0",
   "metadata": {},
   "outputs": [],
   "source": [
    "# Convert the TF-IDF matrix to a dense array for better readability (optional)\n",
    "tfidf_matrix_dense = tfidf_matrix.toarray()\n",
    "\n"
   ]
  },
  {
   "cell_type": "code",
   "execution_count": 7,
   "id": "ced0c961",
   "metadata": {},
   "outputs": [
    {
     "data": {
      "text/plain": [
       "array([[0.        , 0.39371128, 0.        , 0.31874322, 0.31874322,\n",
       "        0.39371128, 0.31874322, 0.        , 0.        , 0.        ,\n",
       "        0.        , 0.49937284, 0.        , 0.26059346, 0.26059346,\n",
       "        0.        ],\n",
       "       [0.        , 0.36634077, 0.        , 0.29658443, 0.29658443,\n",
       "        0.36634077, 0.29658443, 0.36634077, 0.        , 0.46465682,\n",
       "        0.        , 0.        , 0.        , 0.2424772 , 0.2424772 ,\n",
       "        0.        ],\n",
       "       [0.39002912, 0.        , 0.39002912, 0.        , 0.24895054,\n",
       "        0.        , 0.        , 0.30750344, 0.39002912, 0.        ,\n",
       "        0.39002912, 0.        , 0.        , 0.20353338, 0.20353338,\n",
       "        0.39002912],\n",
       "       [0.        , 0.        , 0.        , 0.41553722, 0.        ,\n",
       "        0.        , 0.41553722, 0.        , 0.        , 0.        ,\n",
       "        0.        , 0.        , 0.65101935, 0.3397289 , 0.3397289 ,\n",
       "        0.        ]])"
      ]
     },
     "execution_count": 7,
     "metadata": {},
     "output_type": "execute_result"
    }
   ],
   "source": [
    "tfidf_matrix_dense"
   ]
  },
  {
   "cell_type": "code",
   "execution_count": 8,
   "id": "fd5a6373",
   "metadata": {},
   "outputs": [],
   "source": [
    "# Get the feature names (words/terms) corresponding to the columns of the TF-IDF matrix\n",
    "feature_names = tfidf_vectorizer.get_feature_names_out()\n",
    "\n"
   ]
  },
  {
   "cell_type": "markdown",
   "id": "49a05908",
   "metadata": {},
   "source": [
    "As per sklearn’s online documentation, it uses the below method to calculate idf of a term in a document.\n",
    "\n",
    "idf(t) = log e [ (1+n) / ( 1 + df(t) ) ] + 1 (default i:e smooth_idf = True)\n",
    "\n",
    "and\n",
    "\n",
    "idf(t) = log e [ n / df(t) ] + 1 (when smooth_idf = False)\n",
    "\n"
   ]
  },
  {
   "cell_type": "code",
   "execution_count": 9,
   "id": "32d38864",
   "metadata": {
    "scrolled": true
   },
   "outputs": [
    {
     "data": {
      "text/html": [
       "<div>\n",
       "<style scoped>\n",
       "    .dataframe tbody tr th:only-of-type {\n",
       "        vertical-align: middle;\n",
       "    }\n",
       "\n",
       "    .dataframe tbody tr th {\n",
       "        vertical-align: top;\n",
       "    }\n",
       "\n",
       "    .dataframe thead th {\n",
       "        text-align: right;\n",
       "    }\n",
       "</style>\n",
       "<table border=\"1\" class=\"dataframe\">\n",
       "  <thead>\n",
       "    <tr style=\"text-align: right;\">\n",
       "      <th></th>\n",
       "      <th>ai</th>\n",
       "      <th>and</th>\n",
       "      <th>deep</th>\n",
       "      <th>difficult</th>\n",
       "      <th>in</th>\n",
       "      <th>interesting</th>\n",
       "      <th>is</th>\n",
       "      <th>math</th>\n",
       "      <th>needs</th>\n",
       "      <th>not</th>\n",
       "      <th>of</th>\n",
       "      <th>physics</th>\n",
       "      <th>really</th>\n",
       "      <th>research</th>\n",
       "      <th>the</th>\n",
       "      <th>understanding</th>\n",
       "    </tr>\n",
       "  </thead>\n",
       "  <tbody>\n",
       "    <tr>\n",
       "      <th>The research in Physics is interesting and difficult.</th>\n",
       "      <td>0.000000</td>\n",
       "      <td>0.393711</td>\n",
       "      <td>0.000000</td>\n",
       "      <td>0.318743</td>\n",
       "      <td>0.318743</td>\n",
       "      <td>0.393711</td>\n",
       "      <td>0.318743</td>\n",
       "      <td>0.000000</td>\n",
       "      <td>0.000000</td>\n",
       "      <td>0.000000</td>\n",
       "      <td>0.000000</td>\n",
       "      <td>0.499373</td>\n",
       "      <td>0.000000</td>\n",
       "      <td>0.260593</td>\n",
       "      <td>0.260593</td>\n",
       "      <td>0.000000</td>\n",
       "    </tr>\n",
       "    <tr>\n",
       "      <th>The research in Math is interesting and not difficult.</th>\n",
       "      <td>0.000000</td>\n",
       "      <td>0.366341</td>\n",
       "      <td>0.000000</td>\n",
       "      <td>0.296584</td>\n",
       "      <td>0.296584</td>\n",
       "      <td>0.366341</td>\n",
       "      <td>0.296584</td>\n",
       "      <td>0.366341</td>\n",
       "      <td>0.000000</td>\n",
       "      <td>0.464657</td>\n",
       "      <td>0.000000</td>\n",
       "      <td>0.000000</td>\n",
       "      <td>0.000000</td>\n",
       "      <td>0.242477</td>\n",
       "      <td>0.242477</td>\n",
       "      <td>0.000000</td>\n",
       "    </tr>\n",
       "    <tr>\n",
       "      <th>The Research in AI needs a deep understanding of Math</th>\n",
       "      <td>0.390029</td>\n",
       "      <td>0.000000</td>\n",
       "      <td>0.390029</td>\n",
       "      <td>0.000000</td>\n",
       "      <td>0.248951</td>\n",
       "      <td>0.000000</td>\n",
       "      <td>0.000000</td>\n",
       "      <td>0.307503</td>\n",
       "      <td>0.390029</td>\n",
       "      <td>0.000000</td>\n",
       "      <td>0.390029</td>\n",
       "      <td>0.000000</td>\n",
       "      <td>0.000000</td>\n",
       "      <td>0.203533</td>\n",
       "      <td>0.203533</td>\n",
       "      <td>0.390029</td>\n",
       "    </tr>\n",
       "    <tr>\n",
       "      <th>is the research really difficult?</th>\n",
       "      <td>0.000000</td>\n",
       "      <td>0.000000</td>\n",
       "      <td>0.000000</td>\n",
       "      <td>0.415537</td>\n",
       "      <td>0.000000</td>\n",
       "      <td>0.000000</td>\n",
       "      <td>0.415537</td>\n",
       "      <td>0.000000</td>\n",
       "      <td>0.000000</td>\n",
       "      <td>0.000000</td>\n",
       "      <td>0.000000</td>\n",
       "      <td>0.000000</td>\n",
       "      <td>0.651019</td>\n",
       "      <td>0.339729</td>\n",
       "      <td>0.339729</td>\n",
       "      <td>0.000000</td>\n",
       "    </tr>\n",
       "  </tbody>\n",
       "</table>\n",
       "</div>"
      ],
      "text/plain": [
       "                                                          ai       and  \\\n",
       "The research in Physics is interesting and diff...  0.000000  0.393711   \n",
       "The research in Math is interesting and not dif...  0.000000  0.366341   \n",
       "The Research in AI needs a deep understanding o...  0.390029  0.000000   \n",
       "is the research really difficult?                   0.000000  0.000000   \n",
       "\n",
       "                                                        deep  difficult  \\\n",
       "The research in Physics is interesting and diff...  0.000000   0.318743   \n",
       "The research in Math is interesting and not dif...  0.000000   0.296584   \n",
       "The Research in AI needs a deep understanding o...  0.390029   0.000000   \n",
       "is the research really difficult?                   0.000000   0.415537   \n",
       "\n",
       "                                                          in  interesting  \\\n",
       "The research in Physics is interesting and diff...  0.318743     0.393711   \n",
       "The research in Math is interesting and not dif...  0.296584     0.366341   \n",
       "The Research in AI needs a deep understanding o...  0.248951     0.000000   \n",
       "is the research really difficult?                   0.000000     0.000000   \n",
       "\n",
       "                                                          is      math  \\\n",
       "The research in Physics is interesting and diff...  0.318743  0.000000   \n",
       "The research in Math is interesting and not dif...  0.296584  0.366341   \n",
       "The Research in AI needs a deep understanding o...  0.000000  0.307503   \n",
       "is the research really difficult?                   0.415537  0.000000   \n",
       "\n",
       "                                                       needs       not  \\\n",
       "The research in Physics is interesting and diff...  0.000000  0.000000   \n",
       "The research in Math is interesting and not dif...  0.000000  0.464657   \n",
       "The Research in AI needs a deep understanding o...  0.390029  0.000000   \n",
       "is the research really difficult?                   0.000000  0.000000   \n",
       "\n",
       "                                                          of   physics  \\\n",
       "The research in Physics is interesting and diff...  0.000000  0.499373   \n",
       "The research in Math is interesting and not dif...  0.000000  0.000000   \n",
       "The Research in AI needs a deep understanding o...  0.390029  0.000000   \n",
       "is the research really difficult?                   0.000000  0.000000   \n",
       "\n",
       "                                                      really  research  \\\n",
       "The research in Physics is interesting and diff...  0.000000  0.260593   \n",
       "The research in Math is interesting and not dif...  0.000000  0.242477   \n",
       "The Research in AI needs a deep understanding o...  0.000000  0.203533   \n",
       "is the research really difficult?                   0.651019  0.339729   \n",
       "\n",
       "                                                         the  understanding  \n",
       "The research in Physics is interesting and diff...  0.260593       0.000000  \n",
       "The research in Math is interesting and not dif...  0.242477       0.000000  \n",
       "The Research in AI needs a deep understanding o...  0.203533       0.390029  \n",
       "is the research really difficult?                   0.339729       0.000000  "
      ]
     },
     "execution_count": 9,
     "metadata": {},
     "output_type": "execute_result"
    }
   ],
   "source": [
    "ohe_matrix_final= pd.DataFrame(tfidf_matrix_dense,index= corpus,columns=feature_names)\n",
    "ohe_matrix_final"
   ]
  },
  {
   "cell_type": "code",
   "execution_count": null,
   "id": "fc948db1",
   "metadata": {},
   "outputs": [],
   "source": []
  },
  {
   "cell_type": "markdown",
   "id": "62571ef0",
   "metadata": {},
   "source": [
    "## Observation???"
   ]
  },
  {
   "cell_type": "markdown",
   "id": "1974e488",
   "metadata": {},
   "source": [
    "1. The TF-IDF values are calculated for each term in each document.\n",
    "2. Terms that are common across all documents (e.g., \"is\", \"the\") receive low TF-IDF scores because they are not distinctive.\n",
    "3. Terms that are important in a specific document but less common in the entire corpus receive higher TF-IDF scores.\n",
    "4. The values in the TF-IDF matrix are real numbers that represent the importance of each term in each document.\n",
    "5. You can use these TF-IDF vectors for various NLP tasks like text classification, information retrieval, or clustering."
   ]
  },
  {
   "cell_type": "code",
   "execution_count": null,
   "id": "6b232719",
   "metadata": {},
   "outputs": [],
   "source": []
  },
  {
   "cell_type": "code",
   "execution_count": null,
   "id": "7efd9ca1",
   "metadata": {},
   "outputs": [],
   "source": []
  },
  {
   "cell_type": "code",
   "execution_count": null,
   "id": "adf11b0c",
   "metadata": {},
   "outputs": [],
   "source": []
  }
 ],
 "metadata": {
  "kernelspec": {
   "display_name": "base",
   "language": "python",
   "name": "python3"
  },
  "language_info": {
   "codemirror_mode": {
    "name": "ipython",
    "version": 3
   },
   "file_extension": ".py",
   "mimetype": "text/x-python",
   "name": "python",
   "nbconvert_exporter": "python",
   "pygments_lexer": "ipython3",
   "version": "3.12.7"
  }
 },
 "nbformat": 4,
 "nbformat_minor": 5
}
