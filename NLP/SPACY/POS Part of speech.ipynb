{
 "cells": [
  {
   "cell_type": "code",
   "execution_count": 1,
   "metadata": {},
   "outputs": [],
   "source": [
    "import spacy\n",
    "nlp= spacy.load(\"en_core_web_sm\")"
   ]
  },
  {
   "cell_type": "code",
   "execution_count": 2,
   "metadata": {},
   "outputs": [],
   "source": [
    "doc = nlp(\"he plays a central character in the play\")"
   ]
  },
  {
   "cell_type": "code",
   "execution_count": 5,
   "metadata": {},
   "outputs": [
    {
     "name": "stdout",
     "output_type": "stream",
     "text": [
      "he | he | PRON\n",
      "plays | play | VERB\n",
      "a | a | DET\n",
      "central | central | ADJ\n",
      "character | character | NOUN\n",
      "in | in | ADP\n",
      "the | the | DET\n",
      "play | play | NOUN\n"
     ]
    }
   ],
   "source": [
    "for word in doc:\n",
    "    print(word.text,'|',word.lemma_,'|',word.pos_)\n",
    "  "
   ]
  },
  {
   "cell_type": "code",
   "execution_count": null,
   "metadata": {},
   "outputs": [],
   "source": [
    "for word in doc:\n",
    "    print(word.text,'|',word.lemma_,'|',word.pos_)\n",
    "    print()"
   ]
  },
  {
   "cell_type": "code",
   "execution_count": 6,
   "metadata": {},
   "outputs": [
    {
     "data": {
      "text/plain": [
       "'determiner'"
      ]
     },
     "execution_count": 6,
     "metadata": {},
     "output_type": "execute_result"
    }
   ],
   "source": [
    "spacy.explain('DET')"
   ]
  },
  {
   "cell_type": "code",
   "execution_count": null,
   "metadata": {},
   "outputs": [],
   "source": [
    "for word in doc:\n",
    "    print(word.text,end='|')\n",
    "    print(word.pos_,end='|')\n",
    "    #print(word.tag_)\n"
   ]
  },
  {
   "cell_type": "code",
   "execution_count": 7,
   "metadata": {},
   "outputs": [
    {
     "name": "stdout",
     "output_type": "stream",
     "text": [
      "he|PRON|PRP\n",
      "plays|VERB|VBZ\n",
      "a|DET|DT\n",
      "central|ADJ|JJ\n",
      "character|NOUN|NN\n",
      "in|ADP|IN\n",
      "the|DET|DT\n",
      "play|NOUN|NN\n"
     ]
    }
   ],
   "source": [
    "for word in doc:\n",
    "    print(word.text,end='|')\n",
    "    print(word.pos_,end='|')\n",
    "    print(word.tag_)\n"
   ]
  },
  {
   "cell_type": "code",
   "execution_count": 8,
   "metadata": {},
   "outputs": [
    {
     "data": {
      "text/plain": [
       "'adjective (English), other noun-modifier (Chinese)'"
      ]
     },
     "execution_count": 8,
     "metadata": {},
     "output_type": "execute_result"
    }
   ],
   "source": [
    "spacy.explain('JJ')"
   ]
  },
  {
   "cell_type": "code",
   "execution_count": 9,
   "metadata": {},
   "outputs": [],
   "source": [
    "doc2= nlp('Apple, Microsoft & Google all are trillion $ companies')"
   ]
  },
  {
   "cell_type": "code",
   "execution_count": 10,
   "metadata": {},
   "outputs": [
    {
     "name": "stdout",
     "output_type": "stream",
     "text": [
      "Apple|PROPN|NNP\n",
      ",|PUNCT|,\n",
      "Microsoft|PROPN|NNP\n",
      "&|CCONJ|CC\n",
      "Google|PROPN|NNP\n",
      "all|PRON|DT\n",
      "are|AUX|VBP\n",
      "trillion|NUM|CD\n",
      "$|SYM|$\n",
      "companies|NOUN|NNS\n"
     ]
    }
   ],
   "source": [
    "for token in doc2:\n",
    "    print(token.text,end='|')\n",
    "    print(token.pos_,end='|')\n",
    "    print(token.tag_)"
   ]
  },
  {
   "cell_type": "code",
   "execution_count": 11,
   "metadata": {},
   "outputs": [
    {
     "data": {
      "text/plain": [
       "'noun, proper singular'"
      ]
     },
     "execution_count": 11,
     "metadata": {},
     "output_type": "execute_result"
    }
   ],
   "source": [
    "spacy.explain('NNP')"
   ]
  },
  {
   "cell_type": "code",
   "execution_count": null,
   "metadata": {},
   "outputs": [],
   "source": []
  }
 ],
 "metadata": {
  "kernelspec": {
   "display_name": "Python 3 (ipykernel)",
   "language": "python",
   "name": "python3"
  },
  "language_info": {
   "codemirror_mode": {
    "name": "ipython",
    "version": 3
   },
   "file_extension": ".py",
   "mimetype": "text/x-python",
   "name": "python",
   "nbconvert_exporter": "python",
   "pygments_lexer": "ipython3",
   "version": "3.11.7"
  }
 },
 "nbformat": 4,
 "nbformat_minor": 4
}
