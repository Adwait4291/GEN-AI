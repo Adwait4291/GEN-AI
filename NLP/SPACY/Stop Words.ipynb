{
 "cells": [
  {
   "cell_type": "code",
   "execution_count": 1,
   "metadata": {},
   "outputs": [],
   "source": [
    "import spacy\n",
    "nlp=spacy.load(\"en_core_web_sm\")"
   ]
  },
  {
   "cell_type": "code",
   "execution_count": 2,
   "metadata": {},
   "outputs": [],
   "source": [
    "doc = nlp(\"Python is in a lot of demand today. Python is one of the top programming languages\")"
   ]
  },
  {
   "cell_type": "code",
   "execution_count": 3,
   "metadata": {},
   "outputs": [],
   "source": [
    "all_stop_words= spacy.lang.en.stop_words.STOP_WORDS\n"
   ]
  },
  {
   "cell_type": "code",
   "execution_count": 7,
   "metadata": {},
   "outputs": [
    {
     "name": "stdout",
     "output_type": "stream",
     "text": [
      "{'anyhow', 'formerly', 'ten', 'every', 'three', 'thru', 'by', 'themselves', 'those', 'still', 'very', 'up', 'who', 'might', '‘ll', 'otherwise', 'do', 'whereby', 'everyone', 'therefore', 'nothing', 'mostly', 'whole', 'never', 'go', 'whither', 'this', 'back', 'toward', 'front', 'off', 'that', 'their', 'amongst', 'must', 'which', 'around', 'seems', 'beside', 'give', 'ca', 'nevertheless', 'him', 'anyone', 'before', 'enough', 'former', 'myself', 'last', 'everywhere', 'thereafter', 'what', '’ve', 'whereas', 'without', 'nowhere', 'really', 'although', 'almost', 'be', 'something', 'such', 'towards', 'across', 're', 'will', 'there', 'namely', 'your', 'under', 'hereupon', 'say', 'eight', 'besides', 'on', 'seemed', 'since', 'so', 'using', 'or', 'alone', 'regarding', 'first', 'unless', 'she', '’ll', 'doing', 'its', 'whatever', 'it', 'becomes', 'mine', 'because', 'someone', 'whether', 'a', 'move', 'just', 'into', 'often', 'forty', 'among', 'may', 'whenever', 'neither', 'however', 'below', 'within', 'somehow', 'while', 'you', 'always', 'these', 'yours', 'seem', 'nor', 'ours', 'herein', 'put', 'per', 'anything', 'above', 'even', 'perhaps', 'yet', 'whence', 'thereupon', 'elsewhere', 'he', 'hers', 'twenty', 'various', 'full', 'being', \"'re\", 'how', 'after', 'show', 'much', 'i', 'upon', 'six', 'except', 'noone', 'herself', 'been', 'were', 'serious', 'take', 'whoever', 'both', 'an', 'of', 'no', 'now', 'has', 'had', 'fifty', 'cannot', 'whereupon', 'indeed', 'behind', 'hereafter', 'when', 'get', 'her', 'keep', 'two', 'seeming', 'else', 'to', 'due', 'hence', 'here', 'my', 'several', 'if', 'during', 'would', 'quite', 'anyway', 'made', 'our', 'bottom', 'from', 'than', 'therein', 'top', 'but', 'was', 'hereby', 'n‘t', 'them', 'together', 'though', 'further', 'have', 'am', 'none', 'rather', '’re', 'meanwhile', 'whom', 'thence', 'only', 'yourself', 'other', '’d', \"'d\", 'too', 'beyond', \"n't\", 'itself', 'me', '‘ve', 'onto', 'name', 'somewhere', 'against', 'call', 'more', 'fifteen', 'same', '‘d', 'also', 'wherever', \"'m\", 'each', 'eleven', 'hundred', 'via', 'ever', 'where', 'thereby', '‘re', '‘m', 'least', 'about', 'at', 'next', 'everything', 'less', 'any', 'most', 'over', 'we', 'already', 'in', 'the', 'with', 'twelve', 'either', 'nine', 'whereafter', 'ourselves', '‘s', 'anywhere', 'sometimes', 'part', 'can', 'side', 'are', 'thus', 'amount', 'five', 'whose', 'n’t', 'third', 'latterly', 'is', 'empty', 'all', 'became', 'throughout', 'not', 'another', 'many', '’s', \"'ll\", 'why', 'yourselves', 'as', 'one', 'his', 'become', 'until', 'could', 'some', 'out', 'make', 'again', 'moreover', 'see', 'sixty', 'us', 'four', 'used', 'should', 'does', 'own', 'himself', 'latter', 'beforehand', 'nobody', 'few', \"'s\", 'done', 'once', 'they', 'and', 'well', 'afterwards', '’m', 'did', 'down', 'please', 'between', 'others', 'sometime', 'for', \"'ve\", 'then', 'along', 'wherein', 'becoming', 'through'}\n"
     ]
    }
   ],
   "source": [
    "print(all_stop_words)"
   ]
  },
  {
   "cell_type": "code",
   "execution_count": 5,
   "metadata": {},
   "outputs": [
    {
     "data": {
      "text/plain": [
       "326"
      ]
     },
     "execution_count": 5,
     "metadata": {},
     "output_type": "execute_result"
    }
   ],
   "source": [
    "len(all_stop_words)"
   ]
  },
  {
   "cell_type": "code",
   "execution_count": null,
   "metadata": {},
   "outputs": [],
   "source": [
    "my_stop_words= nlp.Defaults.stop_words"
   ]
  },
  {
   "cell_type": "code",
   "execution_count": null,
   "metadata": {},
   "outputs": [],
   "source": [
    "my_stop_words"
   ]
  },
  {
   "cell_type": "code",
   "execution_count": null,
   "metadata": {},
   "outputs": [],
   "source": [
    "nlp.Defaults.stop_words.add(\"ritesh\")"
   ]
  },
  {
   "cell_type": "code",
   "execution_count": null,
   "metadata": {},
   "outputs": [],
   "source": [
    "len(all_stop_words)"
   ]
  },
  {
   "cell_type": "code",
   "execution_count": null,
   "metadata": {},
   "outputs": [],
   "source": [
    "all_stop_words.remove('ritesh')"
   ]
  },
  {
   "cell_type": "code",
   "execution_count": null,
   "metadata": {},
   "outputs": [],
   "source": [
    "len(all_stop_words)"
   ]
  },
  {
   "cell_type": "code",
   "execution_count": null,
   "metadata": {},
   "outputs": [],
   "source": [
    "# all_stop_words"
   ]
  },
  {
   "cell_type": "code",
   "execution_count": null,
   "metadata": {},
   "outputs": [],
   "source": [
    "len(all_stop_words)"
   ]
  },
  {
   "cell_type": "code",
   "execution_count": 6,
   "metadata": {},
   "outputs": [],
   "source": [
    "doc = nlp(\"Python is in a lot of demand today. Python is one of the top programming languages\")"
   ]
  },
  {
   "cell_type": "code",
   "execution_count": 8,
   "metadata": {},
   "outputs": [
    {
     "name": "stdout",
     "output_type": "stream",
     "text": [
      "is\n",
      "in\n",
      "a\n",
      "of\n",
      "is\n",
      "one\n",
      "of\n",
      "the\n",
      "top\n"
     ]
    }
   ],
   "source": [
    "for token in doc:\n",
    "    if token.text in all_stop_words:\n",
    "        print(token)"
   ]
  },
  {
   "cell_type": "code",
   "execution_count": 9,
   "metadata": {
    "scrolled": true
   },
   "outputs": [
    {
     "name": "stdout",
     "output_type": "stream",
     "text": [
      "Python\n",
      "lot\n",
      "demand\n",
      "today\n",
      ".\n",
      "Python\n",
      "programming\n",
      "languages\n"
     ]
    }
   ],
   "source": [
    "for token in doc:\n",
    "    if token.text not in all_stop_words:\n",
    "        print(token)"
   ]
  },
  {
   "cell_type": "code",
   "execution_count": null,
   "metadata": {},
   "outputs": [],
   "source": [
    "nlp.vocab['the'].is_stop"
   ]
  },
  {
   "cell_type": "code",
   "execution_count": null,
   "metadata": {},
   "outputs": [],
   "source": []
  },
  {
   "cell_type": "code",
   "execution_count": null,
   "metadata": {},
   "outputs": [],
   "source": [
    "all_stop_words"
   ]
  },
  {
   "cell_type": "code",
   "execution_count": null,
   "metadata": {},
   "outputs": [],
   "source": [
    "nlp.vocab['ritesh'].is_stop"
   ]
  },
  {
   "cell_type": "code",
   "execution_count": null,
   "metadata": {},
   "outputs": [],
   "source": [
    "all_stop_words.add('ritesh')"
   ]
  },
  {
   "cell_type": "code",
   "execution_count": null,
   "metadata": {},
   "outputs": [],
   "source": []
  },
  {
   "cell_type": "code",
   "execution_count": null,
   "metadata": {},
   "outputs": [],
   "source": [
    "nlp.vocab['ritesh'].is_stop"
   ]
  },
  {
   "cell_type": "code",
   "execution_count": null,
   "metadata": {},
   "outputs": [],
   "source": [
    "all_stop_words.remove('ritesh')"
   ]
  },
  {
   "cell_type": "code",
   "execution_count": null,
   "metadata": {},
   "outputs": [],
   "source": [
    "\n"
   ]
  },
  {
   "cell_type": "code",
   "execution_count": null,
   "metadata": {},
   "outputs": [],
   "source": []
  }
 ],
 "metadata": {
  "kernelspec": {
   "display_name": "base",
   "language": "python",
   "name": "python3"
  },
  "language_info": {
   "codemirror_mode": {
    "name": "ipython",
    "version": 3
   },
   "file_extension": ".py",
   "mimetype": "text/x-python",
   "name": "python",
   "nbconvert_exporter": "python",
   "pygments_lexer": "ipython3",
   "version": "3.12.7"
  }
 },
 "nbformat": 4,
 "nbformat_minor": 4
}
