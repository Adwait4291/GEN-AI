{
 "cells": [
  {
   "cell_type": "code",
   "execution_count": 1,
   "metadata": {},
   "outputs": [],
   "source": [
    "import spacy\n",
    "nlp=spacy.load(\"en_core_web_sm\")"
   ]
  },
  {
   "cell_type": "markdown",
   "metadata": {},
   "source": [
    "## Tokenization"
   ]
  },
  {
   "cell_type": "code",
   "execution_count": null,
   "metadata": {},
   "outputs": [],
   "source": [
    "data= \"\"\"Walking is a good exercise. You should walk everyday. Running is also good , try to run. I walked yesterday \\\n",
    ". I ran today\"\"\""
   ]
  },
  {
   "cell_type": "code",
   "execution_count": 40,
   "metadata": {},
   "outputs": [
    {
     "data": {
      "text/plain": [
       "'Walking is a good exercise. You should walk everyday.Running is also good , try to run. I walked yesterday . I ran today'"
      ]
     },
     "execution_count": 40,
     "metadata": {},
     "output_type": "execute_result"
    }
   ],
   "source": [
    "data"
   ]
  },
  {
   "cell_type": "code",
   "execution_count": 41,
   "metadata": {},
   "outputs": [],
   "source": [
    "doc =nlp(data)"
   ]
  },
  {
   "cell_type": "code",
   "execution_count": 42,
   "metadata": {},
   "outputs": [
    {
     "name": "stdout",
     "output_type": "stream",
     "text": [
      "Walking\n",
      "is\n",
      "a\n",
      "good\n",
      "exercise\n",
      ".\n",
      "You\n",
      "should\n",
      "walk\n",
      "everyday\n",
      ".\n",
      "Running\n",
      "is\n",
      "also\n",
      "good\n",
      ",\n",
      "try\n",
      "to\n",
      "run\n",
      ".\n",
      "I\n",
      "walked\n",
      "yesterday\n",
      ".\n",
      "I\n",
      "ran\n",
      "today\n"
     ]
    }
   ],
   "source": [
    "for token in doc:\n",
    "    print(token.text)"
   ]
  },
  {
   "cell_type": "code",
   "execution_count": 38,
   "metadata": {},
   "outputs": [
    {
     "name": "stdout",
     "output_type": "stream",
     "text": [
      "Walking  |  1674876016505392235  |  walk\n",
      "is  |  10382539506755952630  |  be\n",
      "a  |  11901859001352538922  |  a\n",
      "good  |  5711639017775284443  |  good\n",
      "exercise  |  9652663489128248624  |  exercise\n",
      ".  |  12646065887601541794  |  .\n",
      "You  |  7624161793554793053  |  you\n",
      "should  |  10292920167869855674  |  should\n",
      "walk  |  1674876016505392235  |  walk\n",
      "everyday  |  12502803309396265471  |  everyday\n",
      ".  |  12646065887601541794  |  .\n",
      "Running  |  12767647472892411841  |  run\n",
      "is  |  10382539506755952630  |  be\n",
      "also  |  12084876542534825196  |  also\n",
      "good  |  5711639017775284443  |  good\n",
      ",  |  2593208677638477497  |  ,\n",
      "try  |  4812066089261065646  |  try\n",
      "to  |  3791531372978436496  |  to\n",
      "run  |  12767647472892411841  |  run\n",
      ".  |  12646065887601541794  |  .\n",
      "I  |  4690420944186131903  |  I\n",
      "walked  |  1674876016505392235  |  walk\n",
      "yesterday  |  1756787072497230782  |  yesterday\n",
      ".  |  12646065887601541794  |  .\n",
      "I  |  4690420944186131903  |  I\n",
      "ran  |  12767647472892411841  |  run\n",
      "today  |  11042482332948150395  |  today\n"
     ]
    }
   ],
   "source": [
    "for token in doc:\n",
    "    print(token.text,' | ',token.lemma,' | ', token.lemma_)"
   ]
  },
  {
   "cell_type": "code",
   "execution_count": null,
   "metadata": {},
   "outputs": [],
   "source": [
    "for token in doc:\n",
    "    print(token.text,' | ',token.lemma,' | ', token.lemma_)"
   ]
  },
  {
   "cell_type": "code",
   "execution_count": null,
   "metadata": {},
   "outputs": [],
   "source": []
  },
  {
   "cell_type": "code",
   "execution_count": null,
   "metadata": {},
   "outputs": [],
   "source": [
    "for token in doc:\n",
    "    print(token.text,' | ',token.lemma,' | ',token.lemma_ )"
   ]
  },
  {
   "cell_type": "code",
   "execution_count": null,
   "metadata": {},
   "outputs": [],
   "source": [
    "for token in doc:\n",
    "    print(token.text,' | ',token.lemma,' | ', token.lemma_)"
   ]
  },
  {
   "cell_type": "code",
   "execution_count": null,
   "metadata": {},
   "outputs": [],
   "source": [
    "for token in doc:\n",
    "    print(token.text,' | ', token.lemma_,' | ',token.lemma)"
   ]
  },
  {
   "cell_type": "code",
   "execution_count": null,
   "metadata": {},
   "outputs": [],
   "source": []
  },
  {
   "cell_type": "code",
   "execution_count": null,
   "metadata": {},
   "outputs": [],
   "source": []
  },
  {
   "cell_type": "code",
   "execution_count": null,
   "metadata": {},
   "outputs": [],
   "source": []
  },
  {
   "cell_type": "code",
   "execution_count": null,
   "metadata": {},
   "outputs": [],
   "source": []
  },
  {
   "cell_type": "code",
   "execution_count": null,
   "metadata": {},
   "outputs": [],
   "source": []
  },
  {
   "cell_type": "markdown",
   "metadata": {},
   "source": [
    "### Notice above the 'I' and 've' have been treated as different words. This is the power of spacy"
   ]
  },
  {
   "cell_type": "markdown",
   "metadata": {},
   "source": [
    "# Lemmatisation"
   ]
  },
  {
   "cell_type": "code",
   "execution_count": null,
   "metadata": {},
   "outputs": [],
   "source": [
    "doc2=nlp(\"Walking is good exercise & You should walk & be active to reduce weight\")\n",
    "for token in doc2:\n",
    "    print(token.text,token.lemma_,token.lemma,end='\\n')"
   ]
  },
  {
   "cell_type": "code",
   "execution_count": null,
   "metadata": {},
   "outputs": [],
   "source": [
    "doc2=nlp(\"Walking is good exercise & You should walk & be active to reduce weight\")"
   ]
  },
  {
   "cell_type": "code",
   "execution_count": null,
   "metadata": {},
   "outputs": [],
   "source": [
    "for token in doc2:\n",
    "    print(token.text,token.lemma_,end='\\n')"
   ]
  },
  {
   "cell_type": "code",
   "execution_count": null,
   "metadata": {},
   "outputs": [],
   "source": [
    "good better best : good"
   ]
  },
  {
   "cell_type": "code",
   "execution_count": null,
   "metadata": {},
   "outputs": [],
   "source": []
  },
  {
   "cell_type": "code",
   "execution_count": null,
   "metadata": {},
   "outputs": [],
   "source": []
  },
  {
   "cell_type": "code",
   "execution_count": null,
   "metadata": {},
   "outputs": [],
   "source": [
    "doc2=nlp(\"this is the worst food. I found it very bad\")\n",
    "for token in doc2:\n",
    "    print(token.text, token.lemma_)"
   ]
  },
  {
   "cell_type": "code",
   "execution_count": null,
   "metadata": {},
   "outputs": [],
   "source": []
  }
 ],
 "metadata": {
  "kernelspec": {
   "display_name": "base",
   "language": "python",
   "name": "python3"
  },
  "language_info": {
   "codemirror_mode": {
    "name": "ipython",
    "version": 3
   },
   "file_extension": ".py",
   "mimetype": "text/x-python",
   "name": "python",
   "nbconvert_exporter": "python",
   "pygments_lexer": "ipython3",
   "version": "3.12.7"
  }
 },
 "nbformat": 4,
 "nbformat_minor": 4
}
