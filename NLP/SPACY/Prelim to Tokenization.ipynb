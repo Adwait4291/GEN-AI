{
 "cells": [
  {
   "cell_type": "code",
   "execution_count": null,
   "metadata": {},
   "outputs": [],
   "source": [
    "doc= \"We will work on an algorithm which will help us detect whether an email is a 'spam' or a 'ham' \\\n",
    "It's going to be a cool project!!!\""
   ]
  },
  {
   "cell_type": "code",
   "execution_count": 2,
   "metadata": {},
   "outputs": [
    {
     "data": {
      "text/plain": [
       "\"We will work on an algorithm which will help us detect whether an email is a 'spam' or a 'ham' It's going to be a cool project!!!\""
      ]
     },
     "execution_count": 2,
     "metadata": {},
     "output_type": "execute_result"
    }
   ],
   "source": [
    "doc"
   ]
  },
  {
   "cell_type": "code",
   "execution_count": 3,
   "metadata": {},
   "outputs": [
    {
     "data": {
      "text/plain": [
       "['We',\n",
       " 'will',\n",
       " 'work',\n",
       " 'on',\n",
       " 'an',\n",
       " 'algorithm',\n",
       " 'which',\n",
       " 'will',\n",
       " 'help',\n",
       " 'us',\n",
       " 'detect',\n",
       " 'whether',\n",
       " 'an',\n",
       " 'email',\n",
       " 'is',\n",
       " 'a',\n",
       " \"'spam'\",\n",
       " 'or',\n",
       " 'a',\n",
       " \"'ham'\",\n",
       " \"It's\",\n",
       " 'going',\n",
       " 'to',\n",
       " 'be',\n",
       " 'a',\n",
       " 'cool',\n",
       " 'project!!!']"
      ]
     },
     "execution_count": 3,
     "metadata": {},
     "output_type": "execute_result"
    }
   ],
   "source": [
    "doc.split()"
   ]
  },
  {
   "cell_type": "markdown",
   "metadata": {},
   "source": [
    "## Note the two exclaimations at the end of the split"
   ]
  },
  {
   "cell_type": "code",
   "execution_count": 4,
   "metadata": {},
   "outputs": [
    {
     "name": "stdout",
     "output_type": "stream",
     "text": [
      "['We', 'will', 'work', 'on', 'an', 'algorithm', 'which', 'will', 'help', 'us', 'detect', 'whether', 'an', 'email', 'is', 'a', \"'spam'\", 'or', 'a', \"'ham'\", \"It's\", 'going', 'to', 'be', 'a', 'cool', 'project', '!', '!', '!']\n"
     ]
    }
   ],
   "source": [
    "delimiters = ['\"', \"!\"]\n",
    "words = []\n",
    "current_word = \"\"\n",
    "\n",
    "for char in doc:\n",
    "    if char==\" \":\n",
    "        if not current_word==\"\":\n",
    "            words.append(current_word)\n",
    "            current_word = \"\"\n",
    "    elif char in delimiters:\n",
    "        if current_word==\"\":\n",
    "            words.append(char)\n",
    "        else:\n",
    "            words.append(current_word)\n",
    "            words.append(char)\n",
    "            current_word = \"\"\n",
    "    else:\n",
    "        current_word += char\n",
    "\n",
    "print(words)"
   ]
  },
  {
   "cell_type": "code",
   "execution_count": null,
   "metadata": {},
   "outputs": [],
   "source": []
  },
  {
   "cell_type": "code",
   "execution_count": null,
   "metadata": {},
   "outputs": [],
   "source": []
  }
 ],
 "metadata": {
  "kernelspec": {
   "display_name": "base",
   "language": "python",
   "name": "python3"
  },
  "language_info": {
   "codemirror_mode": {
    "name": "ipython",
    "version": 3
   },
   "file_extension": ".py",
   "mimetype": "text/x-python",
   "name": "python",
   "nbconvert_exporter": "python",
   "pygments_lexer": "ipython3",
   "version": "3.12.7"
  }
 },
 "nbformat": 4,
 "nbformat_minor": 4
}
